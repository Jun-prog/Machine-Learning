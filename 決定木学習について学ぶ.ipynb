{
  "nbformat": 4,
  "nbformat_minor": 0,
  "metadata": {
    "colab": {
      "name": "決定木学習について学ぶ.ipynb",
      "provenance": [],
      "authorship_tag": "ABX9TyNUXQpMQO1cNLJpQqGAHDrW",
      "include_colab_link": true
    },
    "kernelspec": {
      "name": "python3",
      "display_name": "Python 3"
    }
  },
  "cells": [
    {
      "cell_type": "markdown",
      "metadata": {
        "id": "view-in-github",
        "colab_type": "text"
      },
      "source": [
        "<a href=\"https://colab.research.google.com/github/Jun-prog/Machine-Learning/blob/master/%E6%B1%BA%E5%AE%9A%E6%9C%A8%E5%AD%A6%E7%BF%92%E3%81%AB%E3%81%A4%E3%81%84%E3%81%A6%E5%AD%A6%E3%81%B6.ipynb\" target=\"_parent\"><img src=\"https://colab.research.google.com/assets/colab-badge.svg\" alt=\"Open In Colab\"/></a>"
      ]
    },
    {
      "cell_type": "code",
      "metadata": {
        "id": "qc9BQYAL4JFz",
        "colab_type": "code",
        "colab": {
          "base_uri": "https://localhost:8080/",
          "height": 137
        },
        "outputId": "f6567c65-1b38-41fe-863a-7dd7ab81c11d"
      },
      "source": [
        "pip install sklearn"
      ],
      "execution_count": 32,
      "outputs": [
        {
          "output_type": "error",
          "ename": "SyntaxError",
          "evalue": "ignored",
          "traceback": [
            "\u001b[0;36m  File \u001b[0;32m\"<ipython-input-32-f0571154b41e>\"\u001b[0;36m, line \u001b[0;32m1\u001b[0m\n\u001b[0;31m    pip install sklearn\u001b[0m\n\u001b[0m              ^\u001b[0m\n\u001b[0;31mSyntaxError\u001b[0m\u001b[0;31m:\u001b[0m invalid syntax\n"
          ]
        }
      ]
    },
    {
      "cell_type": "code",
      "metadata": {
        "id": "gkMuaEr1CSu1",
        "colab_type": "code",
        "colab": {
          "base_uri": "https://localhost:8080/",
          "height": 35
        },
        "outputId": "82d73191-0377-4c61-88a7-61c6328ee359"
      },
      "source": [
        "pip install graphviz"
      ],
      "execution_count": 35,
      "outputs": [
        {
          "output_type": "stream",
          "text": [
            "Requirement already satisfied: graphviz in /usr/local/lib/python3.6/dist-packages (0.10.1)\n"
          ],
          "name": "stdout"
        }
      ]
    },
    {
      "cell_type": "markdown",
      "metadata": {
        "id": "a5fqP9sm4Pzq",
        "colab_type": "text"
      },
      "source": [
        "このノートブックは、決定木学習について学ぶことを目的としたものである。\n",
        "\n",
        "疑問点　\n",
        "1.   決定木学習における分類基準はどうやって決められているのか\n",
        "2.   どう決めるのか\n",
        "3.   この手法のメリット・デメリットは？\n",
        "\n",
        "\n",
        "\n",
        "\n"
      ]
    },
    {
      "cell_type": "markdown",
      "metadata": {
        "id": "BJ9SKukZ40uI",
        "colab_type": "text"
      },
      "source": [
        "利用するテキスト・参考資料\n",
        "\n",
        "決定木による分類基準を集計する\n",
        "https://qiita.com/maskot1977/items/e5b142a59ab9a2e74608\n",
        "\n",
        "scikit-learnの決定木系モデルを視覚化する方法（本家）\n",
        "https://qiita.com/takahashi_yukou/items/5251bada1c3dc453c508\n"
      ]
    },
    {
      "cell_type": "code",
      "metadata": {
        "id": "u8BfEXxc5AXx",
        "colab_type": "code",
        "colab": {}
      },
      "source": [
        "# iris のデータをインポート\n",
        "\n",
        "%matplotlib inline\n",
        "import matplotlib.pyplot as plt\n",
        "import pandas as pd\n",
        "import numpy as np\n",
        "import re\n",
        "\n",
        "from sklearn.datasets import load_iris\n",
        "from sklearn.ensemble import RandomForestClassifier\n",
        "from sklearn.model_selection import cross_val_score\n",
        "from sklearn.model_selection import train_test_split\n",
        "from sklearn import tree\n",
        "from sklearn.tree import export_graphviz\n",
        "\n",
        "iris = load_iris()\n",
        "df = pd.DataFrame(iris.data, columns=iris.feature_names)\n",
        "df['species'] = pd.Categorical.from_codes(iris.target, iris.target_names) #　参考文献参照 コードとカテゴリまたはdtypeからカテゴリ型を作成します。one hot vector 的な感じ！！　"
      ],
      "execution_count": 36,
      "outputs": []
    },
    {
      "cell_type": "code",
      "metadata": {
        "id": "eUCOyIdO5fyK",
        "colab_type": "code",
        "colab": {
          "base_uri": "https://localhost:8080/",
          "height": 415
        },
        "outputId": "be2554a6-3944-4a91-b486-d411c3b965ca"
      },
      "source": [
        "df # iris data 表示"
      ],
      "execution_count": 12,
      "outputs": [
        {
          "output_type": "execute_result",
          "data": {
            "text/html": [
              "<div>\n",
              "<style scoped>\n",
              "    .dataframe tbody tr th:only-of-type {\n",
              "        vertical-align: middle;\n",
              "    }\n",
              "\n",
              "    .dataframe tbody tr th {\n",
              "        vertical-align: top;\n",
              "    }\n",
              "\n",
              "    .dataframe thead th {\n",
              "        text-align: right;\n",
              "    }\n",
              "</style>\n",
              "<table border=\"1\" class=\"dataframe\">\n",
              "  <thead>\n",
              "    <tr style=\"text-align: right;\">\n",
              "      <th></th>\n",
              "      <th>sepal length (cm)</th>\n",
              "      <th>sepal width (cm)</th>\n",
              "      <th>petal length (cm)</th>\n",
              "      <th>petal width (cm)</th>\n",
              "      <th>species</th>\n",
              "    </tr>\n",
              "  </thead>\n",
              "  <tbody>\n",
              "    <tr>\n",
              "      <th>0</th>\n",
              "      <td>5.1</td>\n",
              "      <td>3.5</td>\n",
              "      <td>1.4</td>\n",
              "      <td>0.2</td>\n",
              "      <td>setosa</td>\n",
              "    </tr>\n",
              "    <tr>\n",
              "      <th>1</th>\n",
              "      <td>4.9</td>\n",
              "      <td>3.0</td>\n",
              "      <td>1.4</td>\n",
              "      <td>0.2</td>\n",
              "      <td>setosa</td>\n",
              "    </tr>\n",
              "    <tr>\n",
              "      <th>2</th>\n",
              "      <td>4.7</td>\n",
              "      <td>3.2</td>\n",
              "      <td>1.3</td>\n",
              "      <td>0.2</td>\n",
              "      <td>setosa</td>\n",
              "    </tr>\n",
              "    <tr>\n",
              "      <th>3</th>\n",
              "      <td>4.6</td>\n",
              "      <td>3.1</td>\n",
              "      <td>1.5</td>\n",
              "      <td>0.2</td>\n",
              "      <td>setosa</td>\n",
              "    </tr>\n",
              "    <tr>\n",
              "      <th>4</th>\n",
              "      <td>5.0</td>\n",
              "      <td>3.6</td>\n",
              "      <td>1.4</td>\n",
              "      <td>0.2</td>\n",
              "      <td>setosa</td>\n",
              "    </tr>\n",
              "    <tr>\n",
              "      <th>...</th>\n",
              "      <td>...</td>\n",
              "      <td>...</td>\n",
              "      <td>...</td>\n",
              "      <td>...</td>\n",
              "      <td>...</td>\n",
              "    </tr>\n",
              "    <tr>\n",
              "      <th>145</th>\n",
              "      <td>6.7</td>\n",
              "      <td>3.0</td>\n",
              "      <td>5.2</td>\n",
              "      <td>2.3</td>\n",
              "      <td>virginica</td>\n",
              "    </tr>\n",
              "    <tr>\n",
              "      <th>146</th>\n",
              "      <td>6.3</td>\n",
              "      <td>2.5</td>\n",
              "      <td>5.0</td>\n",
              "      <td>1.9</td>\n",
              "      <td>virginica</td>\n",
              "    </tr>\n",
              "    <tr>\n",
              "      <th>147</th>\n",
              "      <td>6.5</td>\n",
              "      <td>3.0</td>\n",
              "      <td>5.2</td>\n",
              "      <td>2.0</td>\n",
              "      <td>virginica</td>\n",
              "    </tr>\n",
              "    <tr>\n",
              "      <th>148</th>\n",
              "      <td>6.2</td>\n",
              "      <td>3.4</td>\n",
              "      <td>5.4</td>\n",
              "      <td>2.3</td>\n",
              "      <td>virginica</td>\n",
              "    </tr>\n",
              "    <tr>\n",
              "      <th>149</th>\n",
              "      <td>5.9</td>\n",
              "      <td>3.0</td>\n",
              "      <td>5.1</td>\n",
              "      <td>1.8</td>\n",
              "      <td>virginica</td>\n",
              "    </tr>\n",
              "  </tbody>\n",
              "</table>\n",
              "<p>150 rows × 5 columns</p>\n",
              "</div>"
            ],
            "text/plain": [
              "     sepal length (cm)  sepal width (cm)  ...  petal width (cm)    species\n",
              "0                  5.1               3.5  ...               0.2     setosa\n",
              "1                  4.9               3.0  ...               0.2     setosa\n",
              "2                  4.7               3.2  ...               0.2     setosa\n",
              "3                  4.6               3.1  ...               0.2     setosa\n",
              "4                  5.0               3.6  ...               0.2     setosa\n",
              "..                 ...               ...  ...               ...        ...\n",
              "145                6.7               3.0  ...               2.3  virginica\n",
              "146                6.3               2.5  ...               1.9  virginica\n",
              "147                6.5               3.0  ...               2.0  virginica\n",
              "148                6.2               3.4  ...               2.3  virginica\n",
              "149                5.9               3.0  ...               1.8  virginica\n",
              "\n",
              "[150 rows x 5 columns]"
            ]
          },
          "metadata": {
            "tags": []
          },
          "execution_count": 12
        }
      ]
    },
    {
      "cell_type": "code",
      "metadata": {
        "id": "oIVWs3bZ6w8S",
        "colab_type": "code",
        "colab": {
          "base_uri": "https://localhost:8080/",
          "height": 307
        },
        "outputId": "f507c098-b496-4de6-c28d-31dbb9e40c64"
      },
      "source": [
        "print(df['species'])\n",
        "print([list(iris.target_names).index(name) for name in df['species'].tolist()])\n",
        "colors = [cmap((c)/ 3) for c in [list(iris.target_names).index(name) for name in df['species'].tolist()]]\n",
        "print(colors)\n"
      ],
      "execution_count": 19,
      "outputs": [
        {
          "output_type": "stream",
          "text": [
            "0         setosa\n",
            "1         setosa\n",
            "2         setosa\n",
            "3         setosa\n",
            "4         setosa\n",
            "         ...    \n",
            "145    virginica\n",
            "146    virginica\n",
            "147    virginica\n",
            "148    virginica\n",
            "149    virginica\n",
            "Name: species, Length: 150, dtype: category\n",
            "Categories (3, object): [setosa, versicolor, virginica]\n",
            "[0, 0, 0, 0, 0, 0, 0, 0, 0, 0, 0, 0, 0, 0, 0, 0, 0, 0, 0, 0, 0, 0, 0, 0, 0, 0, 0, 0, 0, 0, 0, 0, 0, 0, 0, 0, 0, 0, 0, 0, 0, 0, 0, 0, 0, 0, 0, 0, 0, 0, 1, 1, 1, 1, 1, 1, 1, 1, 1, 1, 1, 1, 1, 1, 1, 1, 1, 1, 1, 1, 1, 1, 1, 1, 1, 1, 1, 1, 1, 1, 1, 1, 1, 1, 1, 1, 1, 1, 1, 1, 1, 1, 1, 1, 1, 1, 1, 1, 1, 1, 2, 2, 2, 2, 2, 2, 2, 2, 2, 2, 2, 2, 2, 2, 2, 2, 2, 2, 2, 2, 2, 2, 2, 2, 2, 2, 2, 2, 2, 2, 2, 2, 2, 2, 2, 2, 2, 2, 2, 2, 2, 2, 2, 2, 2, 2, 2, 2, 2, 2]\n",
            "[(0.2298057, 0.298717966, 0.753683153, 1.0), (0.2298057, 0.298717966, 0.753683153, 1.0), (0.2298057, 0.298717966, 0.753683153, 1.0), (0.2298057, 0.298717966, 0.753683153, 1.0), (0.2298057, 0.298717966, 0.753683153, 1.0), (0.2298057, 0.298717966, 0.753683153, 1.0), (0.2298057, 0.298717966, 0.753683153, 1.0), (0.2298057, 0.298717966, 0.753683153, 1.0), (0.2298057, 0.298717966, 0.753683153, 1.0), (0.2298057, 0.298717966, 0.753683153, 1.0), (0.2298057, 0.298717966, 0.753683153, 1.0), (0.2298057, 0.298717966, 0.753683153, 1.0), (0.2298057, 0.298717966, 0.753683153, 1.0), (0.2298057, 0.298717966, 0.753683153, 1.0), (0.2298057, 0.298717966, 0.753683153, 1.0), (0.2298057, 0.298717966, 0.753683153, 1.0), (0.2298057, 0.298717966, 0.753683153, 1.0), (0.2298057, 0.298717966, 0.753683153, 1.0), (0.2298057, 0.298717966, 0.753683153, 1.0), (0.2298057, 0.298717966, 0.753683153, 1.0), (0.2298057, 0.298717966, 0.753683153, 1.0), (0.2298057, 0.298717966, 0.753683153, 1.0), (0.2298057, 0.298717966, 0.753683153, 1.0), (0.2298057, 0.298717966, 0.753683153, 1.0), (0.2298057, 0.298717966, 0.753683153, 1.0), (0.2298057, 0.298717966, 0.753683153, 1.0), (0.2298057, 0.298717966, 0.753683153, 1.0), (0.2298057, 0.298717966, 0.753683153, 1.0), (0.2298057, 0.298717966, 0.753683153, 1.0), (0.2298057, 0.298717966, 0.753683153, 1.0), (0.2298057, 0.298717966, 0.753683153, 1.0), (0.2298057, 0.298717966, 0.753683153, 1.0), (0.2298057, 0.298717966, 0.753683153, 1.0), (0.2298057, 0.298717966, 0.753683153, 1.0), (0.2298057, 0.298717966, 0.753683153, 1.0), (0.2298057, 0.298717966, 0.753683153, 1.0), (0.2298057, 0.298717966, 0.753683153, 1.0), (0.2298057, 0.298717966, 0.753683153, 1.0), (0.2298057, 0.298717966, 0.753683153, 1.0), (0.2298057, 0.298717966, 0.753683153, 1.0), (0.2298057, 0.298717966, 0.753683153, 1.0), (0.2298057, 0.298717966, 0.753683153, 1.0), (0.2298057, 0.298717966, 0.753683153, 1.0), (0.2298057, 0.298717966, 0.753683153, 1.0), (0.2298057, 0.298717966, 0.753683153, 1.0), (0.2298057, 0.298717966, 0.753683153, 1.0), (0.2298057, 0.298717966, 0.753683153, 1.0), (0.2298057, 0.298717966, 0.753683153, 1.0), (0.2298057, 0.298717966, 0.753683153, 1.0), (0.2298057, 0.298717966, 0.753683153, 1.0), (0.6672529243333334, 0.7791764569999999, 0.992959213, 1.0), (0.6672529243333334, 0.7791764569999999, 0.992959213, 1.0), (0.6672529243333334, 0.7791764569999999, 0.992959213, 1.0), (0.6672529243333334, 0.7791764569999999, 0.992959213, 1.0), (0.6672529243333334, 0.7791764569999999, 0.992959213, 1.0), (0.6672529243333334, 0.7791764569999999, 0.992959213, 1.0), (0.6672529243333334, 0.7791764569999999, 0.992959213, 1.0), (0.6672529243333334, 0.7791764569999999, 0.992959213, 1.0), (0.6672529243333334, 0.7791764569999999, 0.992959213, 1.0), (0.6672529243333334, 0.7791764569999999, 0.992959213, 1.0), (0.6672529243333334, 0.7791764569999999, 0.992959213, 1.0), (0.6672529243333334, 0.7791764569999999, 0.992959213, 1.0), (0.6672529243333334, 0.7791764569999999, 0.992959213, 1.0), (0.6672529243333334, 0.7791764569999999, 0.992959213, 1.0), (0.6672529243333334, 0.7791764569999999, 0.992959213, 1.0), (0.6672529243333334, 0.7791764569999999, 0.992959213, 1.0), (0.6672529243333334, 0.7791764569999999, 0.992959213, 1.0), (0.6672529243333334, 0.7791764569999999, 0.992959213, 1.0), (0.6672529243333334, 0.7791764569999999, 0.992959213, 1.0), (0.6672529243333334, 0.7791764569999999, 0.992959213, 1.0), (0.6672529243333334, 0.7791764569999999, 0.992959213, 1.0), (0.6672529243333334, 0.7791764569999999, 0.992959213, 1.0), (0.6672529243333334, 0.7791764569999999, 0.992959213, 1.0), (0.6672529243333334, 0.7791764569999999, 0.992959213, 1.0), (0.6672529243333334, 0.7791764569999999, 0.992959213, 1.0), (0.6672529243333334, 0.7791764569999999, 0.992959213, 1.0), (0.6672529243333334, 0.7791764569999999, 0.992959213, 1.0), (0.6672529243333334, 0.7791764569999999, 0.992959213, 1.0), (0.6672529243333334, 0.7791764569999999, 0.992959213, 1.0), (0.6672529243333334, 0.7791764569999999, 0.992959213, 1.0), (0.6672529243333334, 0.7791764569999999, 0.992959213, 1.0), (0.6672529243333334, 0.7791764569999999, 0.992959213, 1.0), (0.6672529243333334, 0.7791764569999999, 0.992959213, 1.0), (0.6672529243333334, 0.7791764569999999, 0.992959213, 1.0), (0.6672529243333334, 0.7791764569999999, 0.992959213, 1.0), (0.6672529243333334, 0.7791764569999999, 0.992959213, 1.0), (0.6672529243333334, 0.7791764569999999, 0.992959213, 1.0), (0.6672529243333334, 0.7791764569999999, 0.992959213, 1.0), (0.6672529243333334, 0.7791764569999999, 0.992959213, 1.0), (0.6672529243333334, 0.7791764569999999, 0.992959213, 1.0), (0.6672529243333334, 0.7791764569999999, 0.992959213, 1.0), (0.6672529243333334, 0.7791764569999999, 0.992959213, 1.0), (0.6672529243333334, 0.7791764569999999, 0.992959213, 1.0), (0.6672529243333334, 0.7791764569999999, 0.992959213, 1.0), (0.6672529243333334, 0.7791764569999999, 0.992959213, 1.0), (0.6672529243333334, 0.7791764569999999, 0.992959213, 1.0), (0.6672529243333334, 0.7791764569999999, 0.992959213, 1.0), (0.6672529243333334, 0.7791764569999999, 0.992959213, 1.0), (0.6672529243333334, 0.7791764569999999, 0.992959213, 1.0), (0.6672529243333334, 0.7791764569999999, 0.992959213, 1.0), (0.968203399, 0.7208441, 0.6122929913333334, 1.0), (0.968203399, 0.7208441, 0.6122929913333334, 1.0), (0.968203399, 0.7208441, 0.6122929913333334, 1.0), (0.968203399, 0.7208441, 0.6122929913333334, 1.0), (0.968203399, 0.7208441, 0.6122929913333334, 1.0), (0.968203399, 0.7208441, 0.6122929913333334, 1.0), (0.968203399, 0.7208441, 0.6122929913333334, 1.0), (0.968203399, 0.7208441, 0.6122929913333334, 1.0), (0.968203399, 0.7208441, 0.6122929913333334, 1.0), (0.968203399, 0.7208441, 0.6122929913333334, 1.0), (0.968203399, 0.7208441, 0.6122929913333334, 1.0), (0.968203399, 0.7208441, 0.6122929913333334, 1.0), (0.968203399, 0.7208441, 0.6122929913333334, 1.0), (0.968203399, 0.7208441, 0.6122929913333334, 1.0), (0.968203399, 0.7208441, 0.6122929913333334, 1.0), (0.968203399, 0.7208441, 0.6122929913333334, 1.0), (0.968203399, 0.7208441, 0.6122929913333334, 1.0), (0.968203399, 0.7208441, 0.6122929913333334, 1.0), (0.968203399, 0.7208441, 0.6122929913333334, 1.0), (0.968203399, 0.7208441, 0.6122929913333334, 1.0), (0.968203399, 0.7208441, 0.6122929913333334, 1.0), (0.968203399, 0.7208441, 0.6122929913333334, 1.0), (0.968203399, 0.7208441, 0.6122929913333334, 1.0), (0.968203399, 0.7208441, 0.6122929913333334, 1.0), (0.968203399, 0.7208441, 0.6122929913333334, 1.0), (0.968203399, 0.7208441, 0.6122929913333334, 1.0), (0.968203399, 0.7208441, 0.6122929913333334, 1.0), (0.968203399, 0.7208441, 0.6122929913333334, 1.0), (0.968203399, 0.7208441, 0.6122929913333334, 1.0), (0.968203399, 0.7208441, 0.6122929913333334, 1.0), (0.968203399, 0.7208441, 0.6122929913333334, 1.0), (0.968203399, 0.7208441, 0.6122929913333334, 1.0), (0.968203399, 0.7208441, 0.6122929913333334, 1.0), (0.968203399, 0.7208441, 0.6122929913333334, 1.0), (0.968203399, 0.7208441, 0.6122929913333334, 1.0), (0.968203399, 0.7208441, 0.6122929913333334, 1.0), (0.968203399, 0.7208441, 0.6122929913333334, 1.0), (0.968203399, 0.7208441, 0.6122929913333334, 1.0), (0.968203399, 0.7208441, 0.6122929913333334, 1.0), (0.968203399, 0.7208441, 0.6122929913333334, 1.0), (0.968203399, 0.7208441, 0.6122929913333334, 1.0), (0.968203399, 0.7208441, 0.6122929913333334, 1.0), (0.968203399, 0.7208441, 0.6122929913333334, 1.0), (0.968203399, 0.7208441, 0.6122929913333334, 1.0), (0.968203399, 0.7208441, 0.6122929913333334, 1.0), (0.968203399, 0.7208441, 0.6122929913333334, 1.0), (0.968203399, 0.7208441, 0.6122929913333334, 1.0), (0.968203399, 0.7208441, 0.6122929913333334, 1.0), (0.968203399, 0.7208441, 0.6122929913333334, 1.0), (0.968203399, 0.7208441, 0.6122929913333334, 1.0)]\n"
          ],
          "name": "stdout"
        }
      ]
    },
    {
      "cell_type": "code",
      "metadata": {
        "id": "7xeHwv0w6USi",
        "colab_type": "code",
        "colab": {
          "base_uri": "https://localhost:8080/",
          "height": 500
        },
        "outputId": "821e17ce-745b-4e2a-e70e-7ff88a76a541"
      },
      "source": [
        "# scatter plot による概観 \n",
        "# まずは scatter plot による概観をしてみましょうか。異なる species は異なる色で彩色しました。\n",
        "cmap = plt.get_cmap(\"coolwarm\")\n",
        "colors = [cmap((c)/ 3) for c in [list(iris.target_names).index(name) for name in df['species'].tolist()]]\n",
        "pd.plotting.scatter_matrix(df.dropna(axis=1)[df.columns[:]], figsize=(8, 8), color=colors) \n",
        "plt.show()\n"
      ],
      "execution_count": 20,
      "outputs": [
        {
          "output_type": "display_data",
          "data": {
            "image/png": "[encoded data removed]",
            "text/plain": [
              "<Figure size 576x576 with 16 Axes>"
            ]
          },
          "metadata": {
            "tags": [],
            "needs_background": "light"
          }
        }
      ]
    },
    {
      "cell_type": "code",
      "metadata": {
        "id": "x3Kl_-8--ifO",
        "colab_type": "code",
        "colab": {
          "base_uri": "https://localhost:8080/",
          "height": 263
        },
        "outputId": "fa0fc6c7-065c-44bf-c044-04361e53217b"
      },
      "source": [
        "import pydotplus\n",
        "from PIL import Image\n",
        "\n",
        "# 決定木による分類と、分類基準の集計\n",
        "\n",
        "features = df.columns[:4]\n",
        "label = df['species']\n",
        "\n",
        "criteria_distribution = {} # 分類基準の部分を抜き出して、集計するためのリスト\n",
        "accumulated_feature_importances = np.zeros(len(df.columns)-1)\n",
        "\n",
        "for time_of_learning in range(10): # 決定木による分類を１０回繰り返しました。\n",
        "    df_train, df_test, label_train, label_test = train_test_split(df[features], label)\n",
        "    clf = RandomForestClassifier(n_estimators=100) # １回の計算あたりの木の本数は１００本にしました。\n",
        "    clf.fit(df_train, label_train)\n",
        "    accumulated_feature_importances += clf.feature_importances_\n",
        "\n",
        "    for estimator in clf.estimators_:\n",
        "      tree.export_graphviz(estimator)\n",
        "      for line in open(\"/content/sample_data/tree.dot\"): #  \"tree.dot\" という名のテキストファイルが出力され、決定木の構造が記述される。\n",
        "        matched = re.search('X\\[.+?\\n', line) \n",
        "        if matched:\n",
        "          equation = matched.group(0).split(\"\\\\n\")[0]\n",
        "          numerals = re.findall('[0-9\\.]+', line)"
      ],
      "execution_count": 37,
      "outputs": [
        {
          "output_type": "error",
          "ename": "FileNotFoundError",
          "evalue": "ignored",
          "traceback": [
            "\u001b[0;31m---------------------------------------------------------------------------\u001b[0m",
            "\u001b[0;31mFileNotFoundError\u001b[0m                         Traceback (most recent call last)",
            "\u001b[0;32m<ipython-input-37-106331bc1a1e>\u001b[0m in \u001b[0;36m<module>\u001b[0;34m()\u001b[0m\n\u001b[1;32m     15\u001b[0m     \u001b[0;32mfor\u001b[0m \u001b[0mestimator\u001b[0m \u001b[0;32min\u001b[0m \u001b[0mclf\u001b[0m\u001b[0;34m.\u001b[0m\u001b[0mestimators_\u001b[0m\u001b[0;34m:\u001b[0m\u001b[0;34m\u001b[0m\u001b[0;34m\u001b[0m\u001b[0m\n\u001b[1;32m     16\u001b[0m       \u001b[0mtree\u001b[0m\u001b[0;34m.\u001b[0m\u001b[0mexport_graphviz\u001b[0m\u001b[0;34m(\u001b[0m\u001b[0mestimator\u001b[0m\u001b[0;34m)\u001b[0m\u001b[0;34m\u001b[0m\u001b[0;34m\u001b[0m\u001b[0m\n\u001b[0;32m---> 17\u001b[0;31m       \u001b[0;32mfor\u001b[0m \u001b[0mline\u001b[0m \u001b[0;32min\u001b[0m \u001b[0mopen\u001b[0m\u001b[0;34m(\u001b[0m\u001b[0;34m\"/content/sample_data/tree.dot\"\u001b[0m\u001b[0;34m)\u001b[0m\u001b[0;34m:\u001b[0m \u001b[0;31m#  \"tree.dot\" という名のテキストファイルが出力され、決定木の構造が記述される。\u001b[0m\u001b[0;34m\u001b[0m\u001b[0;34m\u001b[0m\u001b[0m\n\u001b[0m\u001b[1;32m     18\u001b[0m         \u001b[0mmatched\u001b[0m \u001b[0;34m=\u001b[0m \u001b[0mre\u001b[0m\u001b[0;34m.\u001b[0m\u001b[0msearch\u001b[0m\u001b[0;34m(\u001b[0m\u001b[0;34m'X\\[.+?\\n'\u001b[0m\u001b[0;34m,\u001b[0m \u001b[0mline\u001b[0m\u001b[0;34m)\u001b[0m\u001b[0;34m\u001b[0m\u001b[0;34m\u001b[0m\u001b[0m\n\u001b[1;32m     19\u001b[0m         \u001b[0;32mif\u001b[0m \u001b[0mmatched\u001b[0m\u001b[0;34m:\u001b[0m\u001b[0;34m\u001b[0m\u001b[0;34m\u001b[0m\u001b[0m\n",
            "\u001b[0;31mFileNotFoundError\u001b[0m: [Errno 2] No such file or directory: '/content/sample_data/tree.dot'"
          ]
        }
      ]
    },
    {
      "cell_type": "markdown",
      "metadata": {
        "id": "oU0zES6aCxhm",
        "colab_type": "text"
      },
      "source": [
        "# scikit-learnの決定木系モデルを視覚化する方法\n",
        "\n",
        "https://qiita.com/takahashi_yukou/items/5251bada1c3dc453c508\n",
        "\n",
        "この人の記事面白そう！！\n"
      ]
    },
    {
      "cell_type": "code",
      "metadata": {
        "id": "z-3NWZbEC5YB",
        "colab_type": "code",
        "colab": {
          "base_uri": "https://localhost:8080/",
          "height": 845
        },
        "outputId": "da0cbf15-2fae-48f0-f666-d8aaef66be86"
      },
      "source": [
        "\"\"\"\n",
        "    決定木系モデルを視覚化する。\n",
        "    Graphviz を用いて、決定木のモデルを視覚化する。\n",
        "    決定木だけでなく、ランダムフォレストなど木構造のモデルに適用できる。\n",
        "\n",
        "\"\"\"\n",
        "\n",
        "from sklearn.datasets import load_iris\n",
        "from sklearn.ensemble import RandomForestClassifier\n",
        "from sklearn.model_selection import train_test_split\n",
        "from sklearn.model_selection import cross_val_score\n",
        "\n",
        "# モデルの木構造の視覚化に必要なパッケージ\n",
        "from sklearn import tree\n",
        "import pydotplus as pdp\n",
        "\n",
        "import pandas as pd\n",
        "import numpy as np\n",
        "\n",
        "iris = load_iris()\n",
        "df = pd.DataFrame(iris.data, columns=iris.feature_names)\n",
        "\n",
        "print(df.head(5))\n",
        "print(iris.target)\n",
        "print(iris.target_names)\n",
        "df['species'] = pd.Categorical.from_codes(iris.target, iris.target_names)\n",
        "print(df.head(5))\n",
        "\n",
        "# 学習データとテストデータを分ける\n",
        "\n",
        "features = df.columns[:4]\n",
        "label = df[\"species\"]\n",
        "print(features)\n",
        "print(label)\n",
        "print(df[features].head(5))\n",
        "df_train, df_test, label_train, label_test = train_test_split(df[features], label)\n",
        "\n",
        "clf = RandomForestClassifier(n_estimators=150)\n",
        "clf.fit(df_train, label_train)\n",
        "print(\"========================================================\")\n",
        "print(\"予測の精度\")\n",
        "print(clf.score(df_test, label_test))\n",
        "\n",
        "# 試しに木の一つを視覚化する\n",
        "estimators = clf.estimators_\n",
        "file_name = \"./tree_visualization.png\"\n",
        "dot_data = tree.export_graphviz(estimators[0], # 決定木オブジェクトを一つ指定する\n",
        "                                out_file=None, # ファイルは介さずにGraphvizにdot言語データを渡すのでNone\n",
        "                                filled=True, # Trueにすると、分岐の際にどちらのノードに多く分類されたのか色で示してくれる\n",
        "                                rounded=True, # Trueにすると、ノードの角を丸く描画する。\n",
        "                                feature_names=features, # これを指定しないとチャート上で特徴量の名前が表示されない\n",
        "                                class_names=iris.target_names, # これを指定しないとチャート上で分類名が表示されない\n",
        "                                special_characters=True # 特殊文字を扱えるようにする\n",
        "                                )\n",
        "graph = pdp.graph_from_dot_data(dot_data)\n",
        "graph.write_png(file_name)"
      ],
      "execution_count": 40,
      "outputs": [
        {
          "output_type": "stream",
          "text": [
            "   sepal length (cm)  sepal width (cm)  petal length (cm)  petal width (cm)\n",
            "0                5.1               3.5                1.4               0.2\n",
            "1                4.9               3.0                1.4               0.2\n",
            "2                4.7               3.2                1.3               0.2\n",
            "3                4.6               3.1                1.5               0.2\n",
            "4                5.0               3.6                1.4               0.2\n",
            "[0 0 0 0 0 0 0 0 0 0 0 0 0 0 0 0 0 0 0 0 0 0 0 0 0 0 0 0 0 0 0 0 0 0 0 0 0\n",
            " 0 0 0 0 0 0 0 0 0 0 0 0 0 1 1 1 1 1 1 1 1 1 1 1 1 1 1 1 1 1 1 1 1 1 1 1 1\n",
            " 1 1 1 1 1 1 1 1 1 1 1 1 1 1 1 1 1 1 1 1 1 1 1 1 1 1 2 2 2 2 2 2 2 2 2 2 2\n",
            " 2 2 2 2 2 2 2 2 2 2 2 2 2 2 2 2 2 2 2 2 2 2 2 2 2 2 2 2 2 2 2 2 2 2 2 2 2\n",
            " 2 2]\n",
            "['setosa' 'versicolor' 'virginica']\n",
            "   sepal length (cm)  sepal width (cm)  ...  petal width (cm)  species\n",
            "0                5.1               3.5  ...               0.2   setosa\n",
            "1                4.9               3.0  ...               0.2   setosa\n",
            "2                4.7               3.2  ...               0.2   setosa\n",
            "3                4.6               3.1  ...               0.2   setosa\n",
            "4                5.0               3.6  ...               0.2   setosa\n",
            "\n",
            "[5 rows x 5 columns]\n",
            "Index(['sepal length (cm)', 'sepal width (cm)', 'petal length (cm)',\n",
            "       'petal width (cm)'],\n",
            "      dtype='object')\n",
            "0         setosa\n",
            "1         setosa\n",
            "2         setosa\n",
            "3         setosa\n",
            "4         setosa\n",
            "         ...    \n",
            "145    virginica\n",
            "146    virginica\n",
            "147    virginica\n",
            "148    virginica\n",
            "149    virginica\n",
            "Name: species, Length: 150, dtype: category\n",
            "Categories (3, object): [setosa, versicolor, virginica]\n",
            "   sepal length (cm)  sepal width (cm)  petal length (cm)  petal width (cm)\n",
            "0                5.1               3.5                1.4               0.2\n",
            "1                4.9               3.0                1.4               0.2\n",
            "2                4.7               3.2                1.3               0.2\n",
            "3                4.6               3.1                1.5               0.2\n",
            "4                5.0               3.6                1.4               0.2\n",
            "========================================================\n",
            "予測の精度\n",
            "0.9473684210526315\n"
          ],
          "name": "stdout"
        },
        {
          "output_type": "execute_result",
          "data": {
            "text/plain": [
              "True"
            ]
          },
          "metadata": {
            "tags": []
          },
          "execution_count": 40
        }
      ]
    },
    {
      "cell_type": "code",
      "metadata": {
        "id": "MvY-p2IMDKMI",
        "colab_type": "code",
        "colab": {
          "base_uri": "https://localhost:8080/",
          "height": 377
        },
        "outputId": "55dbbcb0-04fb-4860-dd80-cc954845c195"
      },
      "source": [
        "iris = load_iris()\n",
        "df = pd.DataFrame(iris.data, columns=iris.feature_names)\n",
        "\n",
        "print(df.head(5))\n",
        "print(iris.target)\n",
        "print(iris.target_names)\n",
        "df['species'] = pd.Categorical.from_codes(iris.target, iris.target_names)\n",
        "print(df.head(5))"
      ],
      "execution_count": 41,
      "outputs": [
        {
          "output_type": "stream",
          "text": [
            "   sepal length (cm)  sepal width (cm)  petal length (cm)  petal width (cm)\n",
            "0                5.1               3.5                1.4               0.2\n",
            "1                4.9               3.0                1.4               0.2\n",
            "2                4.7               3.2                1.3               0.2\n",
            "3                4.6               3.1                1.5               0.2\n",
            "4                5.0               3.6                1.4               0.2\n",
            "[0 0 0 0 0 0 0 0 0 0 0 0 0 0 0 0 0 0 0 0 0 0 0 0 0 0 0 0 0 0 0 0 0 0 0 0 0\n",
            " 0 0 0 0 0 0 0 0 0 0 0 0 0 1 1 1 1 1 1 1 1 1 1 1 1 1 1 1 1 1 1 1 1 1 1 1 1\n",
            " 1 1 1 1 1 1 1 1 1 1 1 1 1 1 1 1 1 1 1 1 1 1 1 1 1 1 2 2 2 2 2 2 2 2 2 2 2\n",
            " 2 2 2 2 2 2 2 2 2 2 2 2 2 2 2 2 2 2 2 2 2 2 2 2 2 2 2 2 2 2 2 2 2 2 2 2 2\n",
            " 2 2]\n",
            "['setosa' 'versicolor' 'virginica']\n",
            "   sepal length (cm)  sepal width (cm)  ...  petal width (cm)  species\n",
            "0                5.1               3.5  ...               0.2   setosa\n",
            "1                4.9               3.0  ...               0.2   setosa\n",
            "2                4.7               3.2  ...               0.2   setosa\n",
            "3                4.6               3.1  ...               0.2   setosa\n",
            "4                5.0               3.6  ...               0.2   setosa\n",
            "\n",
            "[5 rows x 5 columns]\n"
          ],
          "name": "stdout"
        }
      ]
    },
    {
      "cell_type": "code",
      "metadata": {
        "id": "5b3vZ2bNDLx0",
        "colab_type": "code",
        "colab": {
          "base_uri": "https://localhost:8080/",
          "height": 557
        },
        "outputId": "c4f74fb7-95a1-4495-d71d-6d585c9d8635"
      },
      "source": [
        "features = df.columns[:4]\n",
        "label = df[\"species\"]\n",
        "print(features)\n",
        "print(label)\n",
        "print(df[features].head(5))\n",
        "df_train, df_test, label_train, label_test = train_test_split(df[features], label)\n",
        "\n",
        "clf = RandomForestClassifier(n_estimators=150)\n",
        "clf.fit(df_train, label_train)"
      ],
      "execution_count": 42,
      "outputs": [
        {
          "output_type": "stream",
          "text": [
            "Index(['sepal length (cm)', 'sepal width (cm)', 'petal length (cm)',\n",
            "       'petal width (cm)'],\n",
            "      dtype='object')\n",
            "0         setosa\n",
            "1         setosa\n",
            "2         setosa\n",
            "3         setosa\n",
            "4         setosa\n",
            "         ...    \n",
            "145    virginica\n",
            "146    virginica\n",
            "147    virginica\n",
            "148    virginica\n",
            "149    virginica\n",
            "Name: species, Length: 150, dtype: category\n",
            "Categories (3, object): [setosa, versicolor, virginica]\n",
            "   sepal length (cm)  sepal width (cm)  petal length (cm)  petal width (cm)\n",
            "0                5.1               3.5                1.4               0.2\n",
            "1                4.9               3.0                1.4               0.2\n",
            "2                4.7               3.2                1.3               0.2\n",
            "3                4.6               3.1                1.5               0.2\n",
            "4                5.0               3.6                1.4               0.2\n"
          ],
          "name": "stdout"
        },
        {
          "output_type": "execute_result",
          "data": {
            "text/plain": [
              "RandomForestClassifier(bootstrap=True, ccp_alpha=0.0, class_weight=None,\n",
              "                       criterion='gini', max_depth=None, max_features='auto',\n",
              "                       max_leaf_nodes=None, max_samples=None,\n",
              "                       min_impurity_decrease=0.0, min_impurity_split=None,\n",
              "                       min_samples_leaf=1, min_samples_split=2,\n",
              "                       min_weight_fraction_leaf=0.0, n_estimators=150,\n",
              "                       n_jobs=None, oob_score=False, random_state=None,\n",
              "                       verbose=0, warm_start=False)"
            ]
          },
          "metadata": {
            "tags": []
          },
          "execution_count": 42
        }
      ]
    },
    {
      "cell_type": "code",
      "metadata": {
        "id": "rXZmkj_sDP1t",
        "colab_type": "code",
        "colab": {
          "base_uri": "https://localhost:8080/",
          "height": 35
        },
        "outputId": "9d31b5be-ad1f-4b25-f628-b085be281617"
      },
      "source": [
        "estimators = clf.estimators_\n",
        "file_name = \"./tree_visualization.png\"\n",
        "dot_data = tree.export_graphviz(estimators[0], # 決定木オブジェクトを一つ指定する\n",
        "                                out_file=None, # ファイルは介さずにGraphvizにdot言語データを渡すのでNone\n",
        "                                filled=True, # Trueにすると、分岐の際にどちらのノードに多く分類されたのか色で示してくれる\n",
        "                                rounded=True, # Trueにすると、ノードの角を丸く描画する。\n",
        "                                feature_names=features, # これを指定しないとチャート上で特徴量の名前が表示されない\n",
        "                                class_names=iris.target_names, # これを指定しないとチャート上で分類名が表示されない\n",
        "                                special_characters=True # 特殊文字を扱えるようにする\n",
        "                                )\n",
        "graph = pdp.graph_from_dot_data(dot_data)\n",
        "graph.write_png(file_name)"
      ],
      "execution_count": 43,
      "outputs": [
        {
          "output_type": "execute_result",
          "data": {
            "text/plain": [
              "True"
            ]
          },
          "metadata": {
            "tags": []
          },
          "execution_count": 43
        }
      ]
    },
    {
      "cell_type": "markdown",
      "metadata": {
        "id": "QG_hxoObDcRf",
        "colab_type": "text"
      },
      "source": [
        "これを基に、音楽の方も作ってみよう！！\n",
        "\n",
        "まず、それぞれの感情別のcsvを一つにまとめる作業から\n",
        "始めなければいけない。　pandas になれるために、pandas でやろう！！"
      ]
    },
    {
      "cell_type": "markdown",
      "metadata": {
        "id": "5JLM_ggK8vB7",
        "colab_type": "text"
      },
      "source": [
        "参考文献\n",
        "\n",
        "\n",
        "pandas.Categorical.from_codes\n",
        "\n",
        "https://pandas.pydata.org/pandas-docs/stable/reference/api/pandas.Categorical.from_codes.html\n",
        "\n",
        "\n",
        "```\n",
        "dtype = pd.CategoricalDtype(['a', 'b'], ordered=True)\n",
        "pd.Categorical.from_codes(codes=[0, 1, 0, 1], dtype=dtype)\n",
        "[a, b, a, b]\n",
        "Categories (2, object): [a < b]\n",
        "```\n",
        "\n",
        "pythonでランダムフォレストとアンサンブル学習まとめ\n",
        "https://qiita.com/mshinoda88/items/8bfe0b540b35437296bd\n",
        "\n",
        "なぜRandomForestは精度が高くなるのか？\n",
        "RandomForestを含む決定木のような弱学習器は集団学習に向いている。\n",
        "これはバイアスーバリアンスの観点から説明できます。\n",
        "バイアスーバリアンス理論によると汎化誤差は次のように分解されます。\n",
        "\n",
        "汎化誤差 = バイアス + バリアンス ＋ ノイズ\n",
        "\n",
        "ここでバイアスは モデルの表現力 に由来する誤差、\n",
        "バリアンスは データセットの選び方 に由来する誤差、\n",
        "ノイズは 本質的に減らせない誤差 です。\n"
      ]
    },
    {
      "cell_type": "markdown",
      "metadata": {
        "id": "CTcDOIaO6Dif",
        "colab_type": "text"
      },
      "source": [
        "対処したエラー\n",
        "\n",
        "\n",
        "ImportError: No module named 'sklearn.cross_validation'の対処\n",
        "https://www.haya-programming.com/entry/2018/12/04/052713\n",
        "\n",
        "＝＞　　sklearnのバージョンの不一致が原因。\n",
        "\n",
        "新しい書き方　　from sklearn.model_selection import cross_val_score"
      ]
    }
  ]
}